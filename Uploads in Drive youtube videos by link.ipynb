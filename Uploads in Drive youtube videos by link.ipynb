{
  "nbformat": 4,
  "nbformat_minor": 0,
  "metadata": {
    "colab": {
      "provenance": [],
      "collapsed_sections": []
    },
    "kernelspec": {
      "name": "python3",
      "display_name": "Python 3"
    },
    "language_info": {
      "name": "python"
    }
  },
  "cells": [
    {
      "cell_type": "markdown",
      "source": [
        "# Uploads in Drive youtube videos by link."
      ],
      "metadata": {
        "id": "WcfWg3Gz6hse"
      }
    },
    {
      "cell_type": "code",
      "execution_count": null,
      "metadata": {
        "id": "3KB_Cfvk7UAn"
      },
      "outputs": [],
      "source": [
        "# Imports\n",
        "import zipfile\n",
        "from google.colab import files, drive\n",
        "!pip install pytube\n",
        "from pytube import YouTube\n",
        "!pip install docx2txt\n",
        "import docx2txt\n",
        "import shutil\n",
        "from time import sleep\n",
        "\n",
        "# drive mount\n",
        "drive.mount('/content/drive/')\n",
        "\n",
        "#links a bajar\n",
        "links = docx2txt.process(\"links.docx\")\n",
        "links = links.split('\\n')\n",
        "links = [l for l in links if len(l)>0]\n",
        "\n",
        "# Iterar y bajar\n",
        "for i,link in enumerate(links):\n",
        "  try:\n",
        "    sleep(10)\n",
        "    yt = YouTube(link)\n",
        "    resolution = yt.streams.get_highest_resolution().resolution\n",
        "    yt.streams.filter(file_extension=\"mp4\").get_by_resolution(resolution).download()\n",
        "    print(f'\\nDescargando video numero {i+1} de {len(links)} en calidad {resolution}...')\n",
        "  except:\n",
        "    sleep(10)\n",
        "    yt = YouTube(link, use_oauth=True, allow_oauth_cache=True)\n",
        "    resolution = yt.streams.get_highest_resolution().resolution\n",
        "    yt.streams.filter(file_extension=\"mp4\").get_by_resolution(resolution).download()\n",
        "    print(f'\\nDescargando video con edad numero {i+1} de {len(links)} en calidad {resolution}...')\n",
        "\n",
        "# Bajar a pc\n",
        "!mkdir videos\n",
        "videos = !ls\n",
        "videos_final = []\n",
        "for video in videos:\n",
        "  videos_final.extend(video.replace(\"'\",\"\").split('\\t'))\n",
        "videos_final = [doc.strip() for doc in videos_final if '.mp4' in doc]\n",
        "for i,vid in enumerate(videos_final):\n",
        "    shutil.copy(f\"/content/{vid}\", \"/content/videos\")\n",
        "!zip -r /content/videos.zip /content/videos\n",
        "!unzip /content/videos.zip -d /content/drive/MyDrive"
      ]
    }
  ]
}