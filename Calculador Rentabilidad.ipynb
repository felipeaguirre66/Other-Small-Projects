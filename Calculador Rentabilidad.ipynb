{
  "nbformat": 4,
  "nbformat_minor": 0,
  "metadata": {
    "colab": {
      "provenance": [],
      "collapsed_sections": []
    },
    "kernelspec": {
      "name": "python3",
      "display_name": "Python 3"
    },
    "language_info": {
      "name": "python"
    }
  },
  "cells": [
    {
      "cell_type": "markdown",
      "source": [
        "# Calcula rentabilidad en base al precio de compra en Dolar Blue"
      ],
      "metadata": {
        "id": "WIhQhxnUyI4z"
      }
    },
    {
      "cell_type": "code",
      "source": [
        "costo_producto = 8500*2\n",
        "\n",
        "porcentajes_segun_costo = {5:100, 10:85, 15:75, 20:70, 25:55, 30:50, 35:45, 40:37, 45:37, 50:35, 55:35, 60:30, 65:25, 70:20, 75:15, 80:15, 85:15, 90:8}\n",
        "\n",
        "publicacion_premium = 'no' # acepta valores 'si' o 'no'\n",
        "\n",
        "# Costos fijos\n",
        "comision_embalador = 110\n",
        "IIBB = 140\n",
        "packaging = 30\n",
        "\n",
        "# Precio dolar\n",
        "from bs4 import BeautifulSoup\n",
        "import requests\n",
        "from time import sleep\n",
        "url = 'https://www.cronista.com/MercadosOnline/dolar.html'\n",
        "r = requests.get(url)\n",
        "sleep(2)\n",
        "soup = BeautifulSoup(r.content, 'html.parser')\n",
        "dolar_hoy = soup.find_all('div', {\"class\": \"sell-value\"})\n",
        "dolar_hoy = float([dolar.text for dolar in dolar_hoy][1].replace('$','').replace(',','.'))\n",
        "costo_dolar = costo_producto / dolar_hoy\n",
        "\n",
        "# Sacarle el margen\n",
        "precio_venta = 0\n",
        "for i in porcentajes_segun_costo:\n",
        "  if costo_dolar <= i:\n",
        "    precio_venta = costo_dolar*(1 + (porcentajes_segun_costo[i]/100))\n",
        "    break\n",
        "\n",
        "# Caso en el que el costo en dolares excede la lista creada\n",
        "if precio_venta == 0:\n",
        "  precio_venta = costo_dolar*1.1\n",
        "\n",
        "# lo pasamos a pesos\n",
        "inicial_precio_venta_pesos = precio_venta * dolar_hoy\n",
        "\n",
        "# MERCADO SHOPS\n",
        "precio_venta_pesos_shops = inicial_precio_venta_pesos\n",
        "flete = [580 if precio_venta_pesos_shops>=4000 else 0]\n",
        "\n",
        "# Sumamos los costos\n",
        "precio_venta_pesos_shops += sum([flete[0],IIBB,comision_embalador])\n",
        "\n",
        "# Sumamos lo que estimamos nos sacara de comision\n",
        "if publicacion_premium == 'si':\n",
        "  precio_venta_pesos_shops += (precio_venta_pesos_shops/0.845)-precio_venta_pesos_shops\n",
        "else:\n",
        "  precio_venta_pesos_shops += (precio_venta_pesos_shops/0.947)-precio_venta_pesos_shops\n",
        "\n",
        "#calculamos la comision\n",
        "if publicacion_premium == 'si':\n",
        "  comision_shops = (precio_venta_pesos_shops/0.85)-precio_venta_pesos_shops\n",
        "else:\n",
        "  comision_shops = (precio_venta_pesos_shops/0.95)-precio_venta_pesos_shops\n",
        "\n",
        "ganancia = precio_venta_pesos_shops-costo_producto-comision_shops-flete[0]-IIBB-comision_embalador\n",
        "print(f\"MERCADO SHOPS: vendiendolo a ${round(precio_venta_pesos_shops)} ganariamos ${round(ganancia)}\\n\")\n",
        "\n",
        "# MERCADO LIBRE\n",
        "precio_venta_pesos_meli = inicial_precio_venta_pesos\n",
        "flete = [580 if precio_venta_pesos_meli>=4000 else 0]\n",
        "\n",
        "# Sumamos los costos\n",
        "precio_venta_pesos_meli += sum([flete[0],IIBB,comision_embalador])\n",
        "\n",
        "# Sumamos lo que estimamos nos sacara de comision\n",
        "if publicacion_premium == 'si':\n",
        "  precio_venta_pesos_meli += (precio_venta_pesos_meli/0.57)-precio_venta_pesos_meli\n",
        "else:\n",
        "  precio_venta_pesos_meli += (precio_venta_pesos_meli/0.75)-precio_venta_pesos_meli\n",
        "\n",
        "#calculamos la comision\n",
        "if publicacion_premium == 'si':\n",
        "  comision_meli = (precio_venta_pesos_meli/0.7)-precio_venta_pesos_meli\n",
        "else:\n",
        "  comision_meli = (precio_venta_pesos_meli/0.8)-precio_venta_pesos_meli\n",
        "\n",
        "ganancia = precio_venta_pesos_meli-costo_producto-comision_meli-flete[0]-IIBB-comision_embalador\n",
        "print(f\"MERCADO LIBRE: vendiendolo a ${round(precio_venta_pesos_meli)} ganariamos ${round(ganancia)}\\n\")\n",
        "\n",
        "# INDEPENDIENTE\n",
        "flete = 580\n",
        "precio_venta_pesos_independiente = sum([inicial_precio_venta_pesos,comision_embalador,flete])\n",
        "ganancia = precio_venta_pesos_independiente-costo_producto-comision_embalador-flete\n",
        "print(f\"POR FUERA DE MERCADO LIBRE: vendiendolo a ${round(precio_venta_pesos_independiente)} ganariamos ${round(ganancia)}\\n\")\n",
        "\n",
        "print(f\"El costo en dolares del producto es USD {round(costo_dolar,2)} y se le saco un %{porcentajes_segun_costo[i]}\")"
      ],
      "metadata": {
        "id": "5lltujk3JOWi",
        "outputId": "bb2ba073-c5f2-4ccb-a558-3bae3b0c75e9",
        "colab": {
          "base_uri": "https://localhost:8080/"
        }
      },
      "execution_count": null,
      "outputs": [
        {
          "output_type": "stream",
          "name": "stdout",
          "text": [
            "MERCADO SHOPS: vendiendolo a $23316 ganariamos $4259\n",
            "\n",
            "MERCADO LIBRE: vendiendolo a $29440 ganariamos $4250\n",
            "\n",
            "POR FUERA DE MERCADO LIBRE: vendiendolo a $21940 ganariamos $4250\n",
            "\n",
            "El costo en dolares del producto es USD 61.37 y se le saco un %25\n"
          ]
        }
      ]
    },
    {
      "cell_type": "markdown",
      "source": [
        "**Aqui elege uno el precio de venta**"
      ],
      "metadata": {
        "id": "VZ65HHhAwqdj"
      }
    },
    {
      "cell_type": "code",
      "source": [
        "costo_producto = 24403 + 5325\n",
        "\n",
        "precio_venta_inicial = 37499\n",
        "\n",
        "publicacion_premium = 'no' # acepta valores 'si' o 'no'\n",
        "\n",
        "# Costos fijos\n",
        "comision_embalador = 110\n",
        "IIBB = 140\n",
        "packaging = 30\n",
        "\n",
        "\n",
        "# MERCADO SHOPS\n",
        "precio_venta = precio_venta_inicial\n",
        "flete = [580 if precio_venta>=4000 else 0]\n",
        "\n",
        "#calculamos la comision\n",
        "if publicacion_premium == 'si':\n",
        "  comision_shops = (precio_venta/0.85)-precio_venta\n",
        "else:\n",
        "  comision_shops = (precio_venta/0.95)-precio_venta\n",
        "\n",
        "ganancia = precio_venta-costo_producto-comision_shops-flete[0]-IIBB-comision_embalador\n",
        "print(f\"MERCADO SHOPS: vendiendolo a ${round(precio_venta)} ganariamos ${round(ganancia)}\\n\")\n",
        "\n",
        "# MERCADO LIBRE\n",
        "precio_venta = precio_venta_inicial\n",
        "flete = [580 if precio_venta>=4000 else 0]\n",
        "\n",
        "#calculamos la comision\n",
        "if publicacion_premium == 'si':\n",
        "  comision_meli = (precio_venta/0.7)-precio_venta\n",
        "else:\n",
        "  comision_meli = (precio_venta/0.8)-precio_venta\n",
        "\n",
        "ganancia = precio_venta-costo_producto-comision_meli-flete[0]-IIBB-comision_embalador\n",
        "print(f\"MERCADO LIBRE: vendiendolo a ${round(precio_venta)} ganariamos ${round(ganancia)}\\n\")\n",
        "\n",
        "# INDEPENDIENTE\n",
        "precio_venta = precio_venta_inicial\n",
        "ganancia = precio_venta-costo_producto-comision_embalador\n",
        "print(f\"POR FUERA DE MERCADO LIBRE: vendiendolo a ${round(precio_venta)} ganariamos ${round(ganancia)}\\n\")"
      ],
      "metadata": {
        "colab": {
          "base_uri": "https://localhost:8080/"
        },
        "id": "epotdsiOTAsT",
        "outputId": "c50524c3-1053-4bc4-c86f-2271f3cfed9d"
      },
      "execution_count": null,
      "outputs": [
        {
          "output_type": "stream",
          "name": "stdout",
          "text": [
            "MERCADO SHOPS: vendiendolo a $37499 ganariamos $4967\n",
            "\n",
            "MERCADO LIBRE: vendiendolo a $37499 ganariamos $-2434\n",
            "\n",
            "POR FUERA DE MERCADO LIBRE: vendiendolo a $37499 ganariamos $7661\n",
            "\n"
          ]
        }
      ]
    }
  ]
}