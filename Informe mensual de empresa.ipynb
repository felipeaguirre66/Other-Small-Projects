{
  "nbformat": 4,
  "nbformat_minor": 0,
  "metadata": {
    "colab": {
      "provenance": [],
      "collapsed_sections": []
    },
    "kernelspec": {
      "name": "python3",
      "display_name": "Python 3"
    },
    "language_info": {
      "name": "python"
    }
  },
  "cells": [
    {
      "cell_type": "markdown",
      "source": [
        "# **Informe:**\n",
        "https://datastudio.google.com/reporting/b65ca3e6-99e4-437f-b358-3150cab9a8be\n"
      ],
      "metadata": {
        "id": "aaKarU44hCzJ"
      }
    },
    {
      "cell_type": "code",
      "source": [
        "# Imports\n",
        "import pandas as pd\n",
        "import numpy as np\n",
        "import matplotlib.pyplot as plt\n",
        "import math\n",
        "import statistics as st\n",
        "!pip install gspread --upgrade\n",
        "import gspread\n",
        "import webbrowser\n",
        "from time import sleep\n",
        "\n",
        "#Google Drive:\n",
        "from google.colab import drive\n",
        "drive.mount('/content/drive')\n",
        "\n",
        "ruta_excel = '/content/drive/My Drive/Royal Distribuidora/FACTURACION ROYAL.xlsx'\n",
        "\n",
        "# Conocer la cantidad y nombre de las hojas\n",
        "xl = pd.ExcelFile(ruta_excel)\n",
        "hojas = len(xl.sheet_names)\n",
        "nombres_hojas = xl.sheet_names\n",
        "\n",
        "# Creo lista de df's\n",
        "dataframes = []\n",
        "\n",
        "for sheet in nombres_hojas:\n",
        "  df = pd.read_excel(ruta_excel, sheet_name = sheet)\n",
        "  \n",
        "  # Quedarnos con solo las columnas importantes\n",
        "  columnas_relevantes =['marca','descripcion','costo uni','cant','total costo','Precio Venta',\n",
        "          'IIBB','Cargo Mercado Pago','Comision Plataforma','Flete','ML Total','Ganacia neta x uni',\n",
        "          'Total Gan Neta','Medio Venta','Tipo de Venta (Flex o Correo)',\n",
        "          'Prov Cliente','Fecha']\n",
        "  columnas_iniciales = list(df.columns)\n",
        "  columnas_final = [col for col in columnas_iniciales if col in columnas_relevantes]\n",
        "  df = df[columnas_final]\n",
        "\n",
        "  # Agrego el tipo y cantidad de gastos\n",
        "  for i,v in enumerate(df['costo uni'].values):\n",
        "    if v == 'Cantidad' or v == 'cantidad':\n",
        "      indice = i\n",
        "  tipo_gasto = pd.DataFrame(list(df['descripcion'][indice+1:-1])).dropna()\n",
        "  cantidad_gasto = pd.DataFrame(list(df['costo uni'][indice+1:-1]))[0:len(tipo_gasto)]\n",
        "  df['tipo_gasto'] = tipo_gasto\n",
        "  df['cantidad_gasto'] = cantidad_gasto\n",
        "  \n",
        "  # Drop de las filas que no sean productos\n",
        "  df.drop(df.index[len(df.marca.dropna()):len(df.marca)], axis=0, inplace=True)\n",
        "  df['mes'] = sheet\n",
        "  \n",
        "  # Agrego el df final a la lista de df's\n",
        "  dataframes.append(df)\n",
        "\n",
        "# Unir df\n",
        "df = pd.concat(dataframes)\n",
        "df.reset_index(inplace=True)\n",
        "df.drop('index', axis=1, inplace=True)\n",
        "\n",
        "#Limpieza\n",
        "df.fillna('', inplace=True)\n",
        "df['Fecha'] = df['Fecha'].astype(str)\n",
        "for col in df.columns.tolist():\n",
        "  try:\n",
        "    df[col] = [x.strip() for x in df[col].values]\n",
        "  except:\n",
        "    pass\n",
        "\n",
        "#Columnas nuevas\n",
        "df['marca_prod'] = df['marca'] + ' '+ df['descripcion']\n",
        "df['marca_prod_resumen'] = [df['marca'][i] + ' ' + x.split(' ')[0] for i,x in enumerate(df['descripcion'].values)]\n",
        "\n",
        "# Spreadsheet\n",
        "gc = gspread.service_account(filename='/content/drive/My Drive/Royal Distribuidora/Analisis Royal/credenciales.json')\n",
        "\n",
        "#Create if not exists\n",
        "try:\n",
        "    hoja_de_calculo = gc.open('ResultadosAnalisisRoyal')\n",
        "    print('\\n\\nAbriendo excel existente.\\n\\n')\n",
        "except:\n",
        "    hoja_de_calculo = gc.create('ResultadosAnalisisRoyal')\n",
        "    print('\\n\\nExcel no encontrado, creando uno...\\n\\n')\n",
        "\n",
        "#Compartirla\n",
        "mails = ['lipe.aguirre@gmail.com','navarro.maty@yahoo.com.ar','swinn998@gmail.com']\n",
        "[hoja_de_calculo.share(mail, perm_type='user', role='writer') for mail in mails]\n",
        "hoja_de_calculo = gc.open(\"ResultadosAnalisisRoyal\")\n",
        "\n",
        "#Llenarla de datos\n",
        "worksheet = hoja_de_calculo.sheet1\n",
        "worksheet.update([df.columns.values.tolist()] + df.values.tolist())"
      ],
      "metadata": {
        "colab": {
          "base_uri": "https://localhost:8080/"
        },
        "id": "1fpuskQ-vNsb",
        "outputId": "834752ab-9b2f-435f-a011-809470ab9c2d"
      },
      "execution_count": null,
      "outputs": [
        {
          "output_type": "stream",
          "name": "stdout",
          "text": [
            "Looking in indexes: https://pypi.org/simple, https://us-python.pkg.dev/colab-wheels/public/simple/\n",
            "Requirement already satisfied: gspread in /usr/local/lib/python3.7/dist-packages (5.4.0)\n",
            "Requirement already satisfied: google-auth>=1.12.0 in /usr/local/lib/python3.7/dist-packages (from gspread) (1.35.0)\n",
            "Requirement already satisfied: google-auth-oauthlib>=0.4.1 in /usr/local/lib/python3.7/dist-packages (from gspread) (0.4.6)\n",
            "Requirement already satisfied: cachetools<5.0,>=2.0.0 in /usr/local/lib/python3.7/dist-packages (from google-auth>=1.12.0->gspread) (4.2.4)\n",
            "Requirement already satisfied: rsa<5,>=3.1.4 in /usr/local/lib/python3.7/dist-packages (from google-auth>=1.12.0->gspread) (4.9)\n",
            "Requirement already satisfied: six>=1.9.0 in /usr/local/lib/python3.7/dist-packages (from google-auth>=1.12.0->gspread) (1.15.0)\n",
            "Requirement already satisfied: pyasn1-modules>=0.2.1 in /usr/local/lib/python3.7/dist-packages (from google-auth>=1.12.0->gspread) (0.2.8)\n",
            "Requirement already satisfied: setuptools>=40.3.0 in /usr/local/lib/python3.7/dist-packages (from google-auth>=1.12.0->gspread) (57.4.0)\n",
            "Requirement already satisfied: requests-oauthlib>=0.7.0 in /usr/local/lib/python3.7/dist-packages (from google-auth-oauthlib>=0.4.1->gspread) (1.3.1)\n",
            "Requirement already satisfied: pyasn1<0.5.0,>=0.4.6 in /usr/local/lib/python3.7/dist-packages (from pyasn1-modules>=0.2.1->google-auth>=1.12.0->gspread) (0.4.8)\n",
            "Requirement already satisfied: requests>=2.0.0 in /usr/local/lib/python3.7/dist-packages (from requests-oauthlib>=0.7.0->google-auth-oauthlib>=0.4.1->gspread) (2.23.0)\n",
            "Requirement already satisfied: oauthlib>=3.0.0 in /usr/local/lib/python3.7/dist-packages (from requests-oauthlib>=0.7.0->google-auth-oauthlib>=0.4.1->gspread) (3.2.0)\n",
            "Requirement already satisfied: certifi>=2017.4.17 in /usr/local/lib/python3.7/dist-packages (from requests>=2.0.0->requests-oauthlib>=0.7.0->google-auth-oauthlib>=0.4.1->gspread) (2022.6.15)\n",
            "Requirement already satisfied: idna<3,>=2.5 in /usr/local/lib/python3.7/dist-packages (from requests>=2.0.0->requests-oauthlib>=0.7.0->google-auth-oauthlib>=0.4.1->gspread) (2.10)\n",
            "Requirement already satisfied: chardet<4,>=3.0.2 in /usr/local/lib/python3.7/dist-packages (from requests>=2.0.0->requests-oauthlib>=0.7.0->google-auth-oauthlib>=0.4.1->gspread) (3.0.4)\n",
            "Requirement already satisfied: urllib3!=1.25.0,!=1.25.1,<1.26,>=1.21.1 in /usr/local/lib/python3.7/dist-packages (from requests>=2.0.0->requests-oauthlib>=0.7.0->google-auth-oauthlib>=0.4.1->gspread) (1.24.3)\n",
            "Drive already mounted at /content/drive; to attempt to forcibly remount, call drive.mount(\"/content/drive\", force_remount=True).\n",
            "\n",
            "\n",
            "Abriendo excel existente.\n",
            "\n",
            "\n"
          ]
        },
        {
          "output_type": "execute_result",
          "data": {
            "text/plain": [
              "{'spreadsheetId': '1USYs6ao3YkaB8JI-BysDiLKlDCNDqYgCB4f6b2QAMpA',\n",
              " 'updatedRange': 'Sheet1!A1:V808',\n",
              " 'updatedRows': 808,\n",
              " 'updatedColumns': 22,\n",
              " 'updatedCells': 17776}"
            ]
          },
          "metadata": {},
          "execution_count": 2
        }
      ]
    },
    {
      "cell_type": "markdown",
      "source": [
        "# **Analisis Especificos**"
      ],
      "metadata": {
        "id": "jlAO1PZbd53d"
      }
    },
    {
      "cell_type": "code",
      "source": [],
      "metadata": {
        "id": "_zdt9jgseQ4C"
      },
      "execution_count": null,
      "outputs": []
    }
  ]
}